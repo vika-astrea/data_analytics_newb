{
 "cells": [
  {
   "cell_type": "markdown",
   "id": "595475aa-ba16-44d3-afc7-e60d4b44424a",
   "metadata": {},
   "source": [
    "## Data Anlytics Project"
   ]
  },
  {
   "cell_type": "markdown",
   "id": "25a7b204-2504-4cf4-ab3a-55131f68d4a0",
   "metadata": {},
   "source": [
    "This is a Portfolio project with the intent of showing the use of different tools such as Jupyter Notebooks and Python including lybraries as Numpy and Pandas. I'll be using a dataset from Kaggle donwloaded as a csv document.\n",
    "\n",
    "## Context\n",
    "We are exploring an updated and expanded earthquake inventory only for Greece, dating back to 1965, which will be updated annually with the preceding year's earthquake events.\n",
    "\n",
    "## Exploring data\n",
    "Let us start with the basics: import libraries and the dataset itself."
   ]
  },
  {
   "cell_type": "code",
   "execution_count": 1,
   "id": "5771ffc5-cab0-43d8-8619-6d2018c25217",
   "metadata": {},
   "outputs": [],
   "source": [
    "import numpy as np \n",
    "import pandas as pd\n",
    "import matplotlib.pyplot as plt\n",
    "plt.close(\"all\")"
   ]
  },
  {
   "cell_type": "code",
   "execution_count": 2,
   "id": "93a93785-a32c-4526-b9e0-151e074fd5d5",
   "metadata": {},
   "outputs": [],
   "source": [
    "df = pd.read_csv('/Users/vic/Documents/Programación/Data Analytics/Data Analytics Project 2/Earthquakes.csv')"
   ]
  },
  {
   "cell_type": "markdown",
   "id": "bc3ed709-ff2f-495a-b2a6-7ad7dd134a65",
   "metadata": {},
   "source": [
    "Now lets explore the dataset and what information it does provide:"
   ]
  },
  {
   "cell_type": "code",
   "execution_count": 3,
   "id": "f54e4fc6-7a9e-40f5-961c-f7362ca2f53e",
   "metadata": {},
   "outputs": [
    {
     "data": {
      "text/html": [
       "<div>\n",
       "<style scoped>\n",
       "    .dataframe tbody tr th:only-of-type {\n",
       "        vertical-align: middle;\n",
       "    }\n",
       "\n",
       "    .dataframe tbody tr th {\n",
       "        vertical-align: top;\n",
       "    }\n",
       "\n",
       "    .dataframe thead th {\n",
       "        text-align: right;\n",
       "    }\n",
       "</style>\n",
       "<table border=\"1\" class=\"dataframe\">\n",
       "  <thead>\n",
       "    <tr style=\"text-align: right;\">\n",
       "      <th></th>\n",
       "      <th>DATETIME</th>\n",
       "      <th>LAT</th>\n",
       "      <th>LONG</th>\n",
       "      <th>DEPTH</th>\n",
       "      <th>MAGNITUDE</th>\n",
       "    </tr>\n",
       "  </thead>\n",
       "  <tbody>\n",
       "    <tr>\n",
       "      <th>0</th>\n",
       "      <td>1/7/1965 10:22</td>\n",
       "      <td>36.50</td>\n",
       "      <td>26.50</td>\n",
       "      <td>10</td>\n",
       "      <td>5.3</td>\n",
       "    </tr>\n",
       "    <tr>\n",
       "      <th>1</th>\n",
       "      <td>1/10/1965 8:02</td>\n",
       "      <td>39.25</td>\n",
       "      <td>22.25</td>\n",
       "      <td>10</td>\n",
       "      <td>4.9</td>\n",
       "    </tr>\n",
       "    <tr>\n",
       "      <th>2</th>\n",
       "      <td>1/12/1965 17:26</td>\n",
       "      <td>37.00</td>\n",
       "      <td>22.00</td>\n",
       "      <td>10</td>\n",
       "      <td>4.0</td>\n",
       "    </tr>\n",
       "    <tr>\n",
       "      <th>3</th>\n",
       "      <td>1/15/1965 14:56</td>\n",
       "      <td>36.75</td>\n",
       "      <td>21.75</td>\n",
       "      <td>10</td>\n",
       "      <td>4.5</td>\n",
       "    </tr>\n",
       "    <tr>\n",
       "      <th>4</th>\n",
       "      <td>3/9/1965 19:16</td>\n",
       "      <td>39.00</td>\n",
       "      <td>24.00</td>\n",
       "      <td>10</td>\n",
       "      <td>4.2</td>\n",
       "    </tr>\n",
       "  </tbody>\n",
       "</table>\n",
       "</div>"
      ],
      "text/plain": [
       "          DATETIME    LAT   LONG  DEPTH  MAGNITUDE\n",
       "0   1/7/1965 10:22  36.50  26.50     10        5.3\n",
       "1   1/10/1965 8:02  39.25  22.25     10        4.9\n",
       "2  1/12/1965 17:26  37.00  22.00     10        4.0\n",
       "3  1/15/1965 14:56  36.75  21.75     10        4.5\n",
       "4   3/9/1965 19:16  39.00  24.00     10        4.2"
      ]
     },
     "execution_count": 3,
     "metadata": {},
     "output_type": "execute_result"
    }
   ],
   "source": [
    "df.head()"
   ]
  },
  {
   "cell_type": "markdown",
   "id": "5e5ef247-c3dc-4eb0-a3bb-b9bf50c450e9",
   "metadata": {},
   "source": [
    "**About Units** : When working with scientific data is always important to have in mind the units we are working with. Date and time might be self explanatory, but how are we measuring other variables? In this case, latitud and longitud are expressed in the DMS system, Depth is in Kilometers and Magnitude is measured in the Richter scale. "
   ]
  },
  {
   "cell_type": "code",
   "execution_count": 6,
   "id": "4b94d365-30b8-4ca8-b8b9-222a7259244b",
   "metadata": {},
   "outputs": [
    {
     "name": "stdout",
     "output_type": "stream",
     "text": [
      "<class 'pandas.core.frame.DataFrame'>\n",
      "RangeIndex: 251263 entries, 0 to 251262\n",
      "Data columns (total 5 columns):\n",
      " #   Column     Non-Null Count   Dtype  \n",
      "---  ------     --------------   -----  \n",
      " 0   DATETIME   251263 non-null  object \n",
      " 1   LAT        251263 non-null  float64\n",
      " 2   LONG       251263 non-null  float64\n",
      " 3   DEPTH      251263 non-null  int64  \n",
      " 4   MAGNITUDE  251263 non-null  float64\n",
      "dtypes: float64(3), int64(1), object(1)\n",
      "memory usage: 9.6+ MB\n"
     ]
    }
   ],
   "source": [
    "df.info()"
   ]
  },
  {
   "cell_type": "code",
   "execution_count": 7,
   "id": "a8758a41-935c-4aed-aca7-57ca70824e34",
   "metadata": {},
   "outputs": [
    {
     "data": {
      "text/html": [
       "<div>\n",
       "<style scoped>\n",
       "    .dataframe tbody tr th:only-of-type {\n",
       "        vertical-align: middle;\n",
       "    }\n",
       "\n",
       "    .dataframe tbody tr th {\n",
       "        vertical-align: top;\n",
       "    }\n",
       "\n",
       "    .dataframe thead th {\n",
       "        text-align: right;\n",
       "    }\n",
       "</style>\n",
       "<table border=\"1\" class=\"dataframe\">\n",
       "  <thead>\n",
       "    <tr style=\"text-align: right;\">\n",
       "      <th></th>\n",
       "      <th>LAT</th>\n",
       "      <th>LONG</th>\n",
       "      <th>DEPTH</th>\n",
       "      <th>MAGNITUDE</th>\n",
       "    </tr>\n",
       "  </thead>\n",
       "  <tbody>\n",
       "    <tr>\n",
       "      <th>count</th>\n",
       "      <td>251263.000000</td>\n",
       "      <td>251263.000000</td>\n",
       "      <td>251263.000000</td>\n",
       "      <td>251263.000000</td>\n",
       "    </tr>\n",
       "    <tr>\n",
       "      <th>mean</th>\n",
       "      <td>38.192555</td>\n",
       "      <td>22.742393</td>\n",
       "      <td>15.656718</td>\n",
       "      <td>2.179961</td>\n",
       "    </tr>\n",
       "    <tr>\n",
       "      <th>std</th>\n",
       "      <td>1.254266</td>\n",
       "      <td>1.759766</td>\n",
       "      <td>11.969374</td>\n",
       "      <td>0.823466</td>\n",
       "    </tr>\n",
       "    <tr>\n",
       "      <th>min</th>\n",
       "      <td>34.704900</td>\n",
       "      <td>19.290000</td>\n",
       "      <td>0.000000</td>\n",
       "      <td>0.000000</td>\n",
       "    </tr>\n",
       "    <tr>\n",
       "      <th>25%</th>\n",
       "      <td>37.750000</td>\n",
       "      <td>21.580000</td>\n",
       "      <td>9.000000</td>\n",
       "      <td>1.500000</td>\n",
       "    </tr>\n",
       "    <tr>\n",
       "      <th>50%</th>\n",
       "      <td>38.320000</td>\n",
       "      <td>22.210000</td>\n",
       "      <td>13.000000</td>\n",
       "      <td>2.000000</td>\n",
       "    </tr>\n",
       "    <tr>\n",
       "      <th>75%</th>\n",
       "      <td>38.800000</td>\n",
       "      <td>23.640000</td>\n",
       "      <td>19.000000</td>\n",
       "      <td>2.900000</td>\n",
       "    </tr>\n",
       "    <tr>\n",
       "      <th>max</th>\n",
       "      <td>41.550000</td>\n",
       "      <td>29.710000</td>\n",
       "      <td>244.000000</td>\n",
       "      <td>6.700000</td>\n",
       "    </tr>\n",
       "  </tbody>\n",
       "</table>\n",
       "</div>"
      ],
      "text/plain": [
       "                 LAT           LONG          DEPTH      MAGNITUDE\n",
       "count  251263.000000  251263.000000  251263.000000  251263.000000\n",
       "mean       38.192555      22.742393      15.656718       2.179961\n",
       "std         1.254266       1.759766      11.969374       0.823466\n",
       "min        34.704900      19.290000       0.000000       0.000000\n",
       "25%        37.750000      21.580000       9.000000       1.500000\n",
       "50%        38.320000      22.210000      13.000000       2.000000\n",
       "75%        38.800000      23.640000      19.000000       2.900000\n",
       "max        41.550000      29.710000     244.000000       6.700000"
      ]
     },
     "execution_count": 7,
     "metadata": {},
     "output_type": "execute_result"
    }
   ],
   "source": [
    "df.describe()"
   ]
  },
  {
   "cell_type": "markdown",
   "id": "0fddee5b-62b4-47b7-b471-cdf266ee27de",
   "metadata": {},
   "source": [
    "Since we are working with earthquakes located only in Greece, latitud and longitud columns are making a lot of sence: the mean is 38.19° N and 22.74° E (a quick google search demonstrates that Greece coordenates are 39.07° N, 21.82° E)  with a very low standard deviation, which means that location info is very much concentrated. "
   ]
  },
  {
   "cell_type": "markdown",
   "id": "bd65c66b-57f9-499f-914f-62ceccf57282",
   "metadata": {},
   "source": [
    "Depth is much more variable: ranging from 0 Km to 244 Km and a std of 15.66 Km, we can appreciate a very lenghty range, which, for earthquakes, makes perfect sense. We can explore what a 0.0 KM depth actually means later. "
   ]
  },
  {
   "cell_type": "markdown",
   "id": "dcb5ff3a-f199-4565-8d82-98c384d69229",
   "metadata": {},
   "source": [
    "Magnitude is measured in the Richter scale, which has a very small range: goes from 0 to 6.7 . The Richter scale is logaritmic in nature which means that progression is very aggresive: bellow 2.5 earthquakes aren't felt but can be recorded, up to 5.4 are felt and can do minor damage and from 5.5 up the danger scalates. \n",
    "We can see that Greece actually suffered a 6.7 earthquake and was the more intense in its recent history. We can make a guess and think this was the 2006 Kythira earthquake, but lets put a pin in this assumption for later confirmation."
   ]
  },
  {
   "cell_type": "markdown",
   "id": "b2da9f2b-7719-4632-84fd-27e72093dc4c",
   "metadata": {},
   "source": [
    "**Relevant questions of our dataset**:</br>"
   ]
  },
  {
   "cell_type": "markdown",
   "id": "f13d70c3-1d28-4a37-a684-1ef941152496",
   "metadata": {},
   "source": [
    "-How do earthquakes distribute in time? </br>\n",
    "-Which is the most frequent magnitude? and depth?</br>\n",
    "-Is there a correlation between magnitude and depth?</br>\n",
    "-What information can we obtain about the 6.7 earthquake? is it the Kythira earthquake or other event?</br>\n"
   ]
  },
  {
   "cell_type": "markdown",
   "id": "a71c784d-8cfd-41a0-8073-ccc94f8855f4",
   "metadata": {},
   "source": [
    "We will try to answer this questions, but first we have to verify our data is in order."
   ]
  },
  {
   "cell_type": "markdown",
   "id": "20c8c9e9-b802-449c-91c4-d9516d7bafd4",
   "metadata": {},
   "source": [
    "## Data cleaning"
   ]
  },
  {
   "cell_type": "markdown",
   "id": "fb27af91-220d-4f72-92b2-7edc3db8adc8",
   "metadata": {},
   "source": [
    "Lets check if there are any null or empty values in the dataframe:"
   ]
  },
  {
   "cell_type": "code",
   "execution_count": 4,
   "id": "ee3cd99f-407b-42f7-be91-7f1695d6766f",
   "metadata": {},
   "outputs": [
    {
     "data": {
      "text/plain": [
       "DATETIME     False\n",
       "LAT          False\n",
       "LONG         False\n",
       "DEPTH        False\n",
       "MAGNITUDE    False\n",
       "dtype: bool"
      ]
     },
     "execution_count": 4,
     "metadata": {},
     "output_type": "execute_result"
    }
   ],
   "source": [
    "pd.isnull(df).any()"
   ]
  },
  {
   "cell_type": "markdown",
   "id": "80dcac21-d0b2-43bf-8cc7-ff03e02dc4e7",
   "metadata": {},
   "source": [
    "in 251263 entries there aren't any null values. "
   ]
  },
  {
   "cell_type": "markdown",
   "id": "9a00f557-a093-47d5-90f9-48387e5da2d0",
   "metadata": {},
   "source": [
    "Our previous data exploration asured us that the range of the values made sense in context, but lets check for unique values for other outliers."
   ]
  },
  {
   "cell_type": "code",
   "execution_count": 5,
   "id": "a3b1bac2-e28b-4b30-9801-4bb0eea5bc87",
   "metadata": {},
   "outputs": [
    {
     "data": {
      "text/plain": [
       "array([5.3, 4.9, 4. , 4.5, 4.2, 4.4, 4.8, 5.1, 4.6, 4.1, 3.8, 3.3, 3.6,\n",
       "       3.4, 3.9, 3.2, 3.7, 3.5, 4.3, 2.8, 3.1, 5.2, 5.4, 2.9, 2.7, 5.9,\n",
       "       5. , 4.7, 3. , 5.5, 6. , 2.4, 1.7, 2.6, 2.5, 6.7, 5.6, 1.9, 2.1,\n",
       "       6.1, 2.2, 1.6, 2. , 1.5, 5.8, 2.3, 1.8, 6.3, 6.4, 5.7, 6.6, 1.4,\n",
       "       1.3, 1.2, 6.5, 1. , 6.2, 0.7, 0.9, 1.1, 0.8, 0. , 0.6, 0.3, 0.5,\n",
       "       0.4, 0.2, 0.1])"
      ]
     },
     "execution_count": 5,
     "metadata": {},
     "output_type": "execute_result"
    }
   ],
   "source": [
    "df['MAGNITUDE'].unique()"
   ]
  },
  {
   "cell_type": "markdown",
   "id": "d74eadcb-0bd6-4d2b-ac36-bbc960aeba2a",
   "metadata": {},
   "source": [
    "The 0. value is strange at first glance, but remember that the Richter Scale starts at 0 and that measurement instruments have an asociated error margin. This just means than an 0 magnitude earthqueake is a very faint, weak one. "
   ]
  },
  {
   "cell_type": "markdown",
   "id": "9ddc0b1b-f581-4fe5-be27-8a7062e18b7d",
   "metadata": {},
   "source": [
    "**Cheking for duplicates**:"
   ]
  },
  {
   "cell_type": "code",
   "execution_count": 82,
   "id": "142925f7-67f9-43d3-a5b4-5a81af3bf031",
   "metadata": {},
   "outputs": [
    {
     "data": {
      "text/plain": [
       "True"
      ]
     },
     "execution_count": 82,
     "metadata": {},
     "output_type": "execute_result"
    }
   ],
   "source": [
    "df.duplicated().any()"
   ]
  },
  {
   "cell_type": "code",
   "execution_count": 83,
   "id": "740be5cc-159f-4913-a0de-6ea051976475",
   "metadata": {},
   "outputs": [
    {
     "data": {
      "text/html": [
       "<div>\n",
       "<style scoped>\n",
       "    .dataframe tbody tr th:only-of-type {\n",
       "        vertical-align: middle;\n",
       "    }\n",
       "\n",
       "    .dataframe tbody tr th {\n",
       "        vertical-align: top;\n",
       "    }\n",
       "\n",
       "    .dataframe thead th {\n",
       "        text-align: right;\n",
       "    }\n",
       "</style>\n",
       "<table border=\"1\" class=\"dataframe\">\n",
       "  <thead>\n",
       "    <tr style=\"text-align: right;\">\n",
       "      <th></th>\n",
       "      <th>DATETIME</th>\n",
       "      <th>LAT</th>\n",
       "      <th>LONG</th>\n",
       "      <th>DEPTH</th>\n",
       "      <th>MAGNITUDE</th>\n",
       "    </tr>\n",
       "  </thead>\n",
       "  <tbody>\n",
       "    <tr>\n",
       "      <th>69025</th>\n",
       "      <td>8/28/2010 23:35</td>\n",
       "      <td>38.66</td>\n",
       "      <td>23.37</td>\n",
       "      <td>13</td>\n",
       "      <td>2.7</td>\n",
       "    </tr>\n",
       "    <tr>\n",
       "      <th>69088</th>\n",
       "      <td>8/30/2010 10:10</td>\n",
       "      <td>38.75</td>\n",
       "      <td>21.09</td>\n",
       "      <td>5</td>\n",
       "      <td>3.0</td>\n",
       "    </tr>\n",
       "    <tr>\n",
       "      <th>72429</th>\n",
       "      <td>12/19/2010 13:53</td>\n",
       "      <td>40.28</td>\n",
       "      <td>21.92</td>\n",
       "      <td>5</td>\n",
       "      <td>2.7</td>\n",
       "    </tr>\n",
       "    <tr>\n",
       "      <th>73116</th>\n",
       "      <td>1/12/2011 2:06</td>\n",
       "      <td>35.99</td>\n",
       "      <td>25.32</td>\n",
       "      <td>28</td>\n",
       "      <td>3.1</td>\n",
       "    </tr>\n",
       "    <tr>\n",
       "      <th>73734</th>\n",
       "      <td>1/27/2011 23:08</td>\n",
       "      <td>37.87</td>\n",
       "      <td>22.97</td>\n",
       "      <td>6</td>\n",
       "      <td>1.7</td>\n",
       "    </tr>\n",
       "    <tr>\n",
       "      <th>83339</th>\n",
       "      <td>10/8/2011 20:16</td>\n",
       "      <td>36.40</td>\n",
       "      <td>25.38</td>\n",
       "      <td>3</td>\n",
       "      <td>1.1</td>\n",
       "    </tr>\n",
       "    <tr>\n",
       "      <th>92082</th>\n",
       "      <td>3/15/2012 21:30</td>\n",
       "      <td>38.17</td>\n",
       "      <td>21.72</td>\n",
       "      <td>26</td>\n",
       "      <td>1.6</td>\n",
       "    </tr>\n",
       "    <tr>\n",
       "      <th>113458</th>\n",
       "      <td>5/31/2013 10:57</td>\n",
       "      <td>38.22</td>\n",
       "      <td>22.11</td>\n",
       "      <td>10</td>\n",
       "      <td>1.4</td>\n",
       "    </tr>\n",
       "    <tr>\n",
       "      <th>118749</th>\n",
       "      <td>8/15/2013 8:24</td>\n",
       "      <td>38.69</td>\n",
       "      <td>22.68</td>\n",
       "      <td>2</td>\n",
       "      <td>1.2</td>\n",
       "    </tr>\n",
       "    <tr>\n",
       "      <th>146605</th>\n",
       "      <td>10/15/2014 5:57</td>\n",
       "      <td>39.22</td>\n",
       "      <td>22.94</td>\n",
       "      <td>8</td>\n",
       "      <td>0.8</td>\n",
       "    </tr>\n",
       "    <tr>\n",
       "      <th>155461</th>\n",
       "      <td>3/31/2015 22:20</td>\n",
       "      <td>38.33</td>\n",
       "      <td>20.51</td>\n",
       "      <td>14</td>\n",
       "      <td>1.8</td>\n",
       "    </tr>\n",
       "  </tbody>\n",
       "</table>\n",
       "</div>"
      ],
      "text/plain": [
       "                DATETIME    LAT   LONG  DEPTH  MAGNITUDE\n",
       "69025    8/28/2010 23:35  38.66  23.37     13        2.7\n",
       "69088    8/30/2010 10:10  38.75  21.09      5        3.0\n",
       "72429   12/19/2010 13:53  40.28  21.92      5        2.7\n",
       "73116     1/12/2011 2:06  35.99  25.32     28        3.1\n",
       "73734    1/27/2011 23:08  37.87  22.97      6        1.7\n",
       "83339    10/8/2011 20:16  36.40  25.38      3        1.1\n",
       "92082    3/15/2012 21:30  38.17  21.72     26        1.6\n",
       "113458   5/31/2013 10:57  38.22  22.11     10        1.4\n",
       "118749    8/15/2013 8:24  38.69  22.68      2        1.2\n",
       "146605   10/15/2014 5:57  39.22  22.94      8        0.8\n",
       "155461   3/31/2015 22:20  38.33  20.51     14        1.8"
      ]
     },
     "execution_count": 83,
     "metadata": {},
     "output_type": "execute_result"
    }
   ],
   "source": [
    "\n",
    "df[df.duplicated() == True]"
   ]
  },
  {
   "cell_type": "markdown",
   "id": "6456da1f-1ebc-4a46-a07f-a038c97e6358",
   "metadata": {},
   "source": [
    "We have 11 duplicates. Now, many of these cand be inmediate aftershocks that happen seconds appart or subtle tremors (most of them have very low magnitude and are quite shallow) . We can treat them like redundant information and drop them."
   ]
  },
  {
   "cell_type": "code",
   "execution_count": 84,
   "id": "74a47451-360b-407e-8324-740db625f8f6",
   "metadata": {},
   "outputs": [
    {
     "data": {
      "text/plain": [
       "False"
      ]
     },
     "execution_count": 84,
     "metadata": {},
     "output_type": "execute_result"
    }
   ],
   "source": [
    "df = df.drop_duplicates()\n",
    "df.duplicated().any()"
   ]
  },
  {
   "cell_type": "markdown",
   "id": "0e7656ec-b655-4984-8326-cfd1fc6a9792",
   "metadata": {},
   "source": [
    "**Datetime** </br>\n",
    "The Datetime column has a type of object. I want to convert it to a date time type so we can interact with the year property."
   ]
  },
  {
   "cell_type": "code",
   "execution_count": 86,
   "id": "42ed43b2-0cf9-435a-86cf-1b664760f245",
   "metadata": {},
   "outputs": [],
   "source": [
    "df['DATETIME'] = pd.to_datetime(df['DATETIME'],infer_datetime_format=True)"
   ]
  },
  {
   "cell_type": "code",
   "execution_count": 10,
   "id": "e211e486-85de-4b8a-9701-54ab5dcec331",
   "metadata": {},
   "outputs": [
    {
     "name": "stdout",
     "output_type": "stream",
     "text": [
      "<class 'pandas.core.frame.DataFrame'>\n",
      "Int64Index: 251252 entries, 0 to 251262\n",
      "Data columns (total 5 columns):\n",
      " #   Column     Non-Null Count   Dtype         \n",
      "---  ------     --------------   -----         \n",
      " 0   DATETIME   251252 non-null  datetime64[ns]\n",
      " 1   LAT        251252 non-null  float64       \n",
      " 2   LONG       251252 non-null  float64       \n",
      " 3   DEPTH      251252 non-null  int64         \n",
      " 4   MAGNITUDE  251252 non-null  float64       \n",
      "dtypes: datetime64[ns](1), float64(3), int64(1)\n",
      "memory usage: 11.5 MB\n"
     ]
    }
   ],
   "source": [
    "df.info()"
   ]
  },
  {
   "cell_type": "markdown",
   "id": "a557c971-7089-4c21-a334-b804fd956245",
   "metadata": {},
   "source": [
    "Without duplicates, nonsensicall values nor null cells, we can continue with our analysis."
   ]
  },
  {
   "cell_type": "markdown",
   "id": "c5c8a302-a9db-425e-b07f-1c3fd951fef1",
   "metadata": {},
   "source": [
    "## High magnitude earthquakes and the Kythira earthquake of 2006."
   ]
  },
  {
   "cell_type": "markdown",
   "id": "e1bbcc03-2dc9-4f03-add3-9df15240045f",
   "metadata": {},
   "source": [
    "Lets find the earthquakes with the highest mangnitude:"
   ]
  },
  {
   "cell_type": "code",
   "execution_count": 122,
   "id": "d51d0baa-bec9-444c-9cfd-42d07d4e92ca",
   "metadata": {},
   "outputs": [
    {
     "data": {
      "text/html": [
       "<div>\n",
       "<style scoped>\n",
       "    .dataframe tbody tr th:only-of-type {\n",
       "        vertical-align: middle;\n",
       "    }\n",
       "\n",
       "    .dataframe tbody tr th {\n",
       "        vertical-align: top;\n",
       "    }\n",
       "\n",
       "    .dataframe thead th {\n",
       "        text-align: right;\n",
       "    }\n",
       "</style>\n",
       "<table border=\"1\" class=\"dataframe\">\n",
       "  <thead>\n",
       "    <tr style=\"text-align: right;\">\n",
       "      <th></th>\n",
       "      <th>DATETIME</th>\n",
       "      <th>LAT</th>\n",
       "      <th>LONG</th>\n",
       "      <th>DEPTH</th>\n",
       "      <th>MAGNITUDE</th>\n",
       "    </tr>\n",
       "  </thead>\n",
       "  <tbody>\n",
       "    <tr>\n",
       "      <th>479</th>\n",
       "      <td>1968-02-19 22:45:00</td>\n",
       "      <td>39.5000</td>\n",
       "      <td>24.8000</td>\n",
       "      <td>10</td>\n",
       "      <td>6.7</td>\n",
       "    </tr>\n",
       "    <tr>\n",
       "      <th>226371</th>\n",
       "      <td>2020-10-30 11:51:00</td>\n",
       "      <td>37.9001</td>\n",
       "      <td>26.8167</td>\n",
       "      <td>12</td>\n",
       "      <td>6.7</td>\n",
       "    </tr>\n",
       "  </tbody>\n",
       "</table>\n",
       "</div>"
      ],
      "text/plain": [
       "                  DATETIME      LAT     LONG  DEPTH  MAGNITUDE\n",
       "479    1968-02-19 22:45:00  39.5000  24.8000     10        6.7\n",
       "226371 2020-10-30 11:51:00  37.9001  26.8167     12        6.7"
      ]
     },
     "execution_count": 122,
     "metadata": {},
     "output_type": "execute_result"
    }
   ],
   "source": [
    "df[df['MAGNITUDE'] >= 6.7]"
   ]
  },
  {
   "cell_type": "markdown",
   "id": "09eea210-dc80-4361-9b30-7f88bd024ef9",
   "metadata": {},
   "source": [
    "We have two 6.7 Magnitude earthquakes, but none of the ocurred in 2006. Lets search by year then and try find earthqueakes in 2006:"
   ]
  },
  {
   "cell_type": "code",
   "execution_count": 23,
   "id": "c2271218-9ef2-4091-ab18-8043ae700ece",
   "metadata": {},
   "outputs": [
    {
     "data": {
      "text/html": [
       "<div>\n",
       "<style scoped>\n",
       "    .dataframe tbody tr th:only-of-type {\n",
       "        vertical-align: middle;\n",
       "    }\n",
       "\n",
       "    .dataframe tbody tr th {\n",
       "        vertical-align: top;\n",
       "    }\n",
       "\n",
       "    .dataframe thead th {\n",
       "        text-align: right;\n",
       "    }\n",
       "</style>\n",
       "<table border=\"1\" class=\"dataframe\">\n",
       "  <thead>\n",
       "    <tr style=\"text-align: right;\">\n",
       "      <th></th>\n",
       "      <th>DATETIME</th>\n",
       "      <th>LAT</th>\n",
       "      <th>LONG</th>\n",
       "      <th>DEPTH</th>\n",
       "      <th>MAGNITUDE</th>\n",
       "    </tr>\n",
       "  </thead>\n",
       "  <tbody>\n",
       "    <tr>\n",
       "      <th>39050</th>\n",
       "      <td>2006-01-01 00:08:00</td>\n",
       "      <td>37.65</td>\n",
       "      <td>24.29</td>\n",
       "      <td>31</td>\n",
       "      <td>3.1</td>\n",
       "    </tr>\n",
       "    <tr>\n",
       "      <th>39051</th>\n",
       "      <td>2006-01-01 08:45:00</td>\n",
       "      <td>38.74</td>\n",
       "      <td>26.27</td>\n",
       "      <td>10</td>\n",
       "      <td>3.0</td>\n",
       "    </tr>\n",
       "    <tr>\n",
       "      <th>39052</th>\n",
       "      <td>2006-01-01 09:25:00</td>\n",
       "      <td>37.44</td>\n",
       "      <td>23.79</td>\n",
       "      <td>10</td>\n",
       "      <td>3.4</td>\n",
       "    </tr>\n",
       "    <tr>\n",
       "      <th>39053</th>\n",
       "      <td>2006-01-01 09:54:00</td>\n",
       "      <td>39.30</td>\n",
       "      <td>25.49</td>\n",
       "      <td>10</td>\n",
       "      <td>3.4</td>\n",
       "    </tr>\n",
       "    <tr>\n",
       "      <th>39054</th>\n",
       "      <td>2006-01-01 15:22:00</td>\n",
       "      <td>39.93</td>\n",
       "      <td>24.45</td>\n",
       "      <td>29</td>\n",
       "      <td>3.0</td>\n",
       "    </tr>\n",
       "    <tr>\n",
       "      <th>...</th>\n",
       "      <td>...</td>\n",
       "      <td>...</td>\n",
       "      <td>...</td>\n",
       "      <td>...</td>\n",
       "      <td>...</td>\n",
       "    </tr>\n",
       "    <tr>\n",
       "      <th>42633</th>\n",
       "      <td>2006-12-31 08:34:00</td>\n",
       "      <td>38.04</td>\n",
       "      <td>20.64</td>\n",
       "      <td>5</td>\n",
       "      <td>3.2</td>\n",
       "    </tr>\n",
       "    <tr>\n",
       "      <th>42634</th>\n",
       "      <td>2006-12-31 12:13:00</td>\n",
       "      <td>40.25</td>\n",
       "      <td>23.83</td>\n",
       "      <td>33</td>\n",
       "      <td>2.9</td>\n",
       "    </tr>\n",
       "    <tr>\n",
       "      <th>42635</th>\n",
       "      <td>2006-12-31 17:57:00</td>\n",
       "      <td>37.90</td>\n",
       "      <td>21.15</td>\n",
       "      <td>15</td>\n",
       "      <td>3.6</td>\n",
       "    </tr>\n",
       "    <tr>\n",
       "      <th>42636</th>\n",
       "      <td>2006-12-31 20:12:00</td>\n",
       "      <td>38.31</td>\n",
       "      <td>21.37</td>\n",
       "      <td>45</td>\n",
       "      <td>3.0</td>\n",
       "    </tr>\n",
       "    <tr>\n",
       "      <th>42637</th>\n",
       "      <td>2006-12-31 22:17:00</td>\n",
       "      <td>35.69</td>\n",
       "      <td>25.24</td>\n",
       "      <td>56</td>\n",
       "      <td>3.3</td>\n",
       "    </tr>\n",
       "  </tbody>\n",
       "</table>\n",
       "<p>3588 rows × 5 columns</p>\n",
       "</div>"
      ],
      "text/plain": [
       "                 DATETIME    LAT   LONG  DEPTH  MAGNITUDE\n",
       "39050 2006-01-01 00:08:00  37.65  24.29     31        3.1\n",
       "39051 2006-01-01 08:45:00  38.74  26.27     10        3.0\n",
       "39052 2006-01-01 09:25:00  37.44  23.79     10        3.4\n",
       "39053 2006-01-01 09:54:00  39.30  25.49     10        3.4\n",
       "39054 2006-01-01 15:22:00  39.93  24.45     29        3.0\n",
       "...                   ...    ...    ...    ...        ...\n",
       "42633 2006-12-31 08:34:00  38.04  20.64      5        3.2\n",
       "42634 2006-12-31 12:13:00  40.25  23.83     33        2.9\n",
       "42635 2006-12-31 17:57:00  37.90  21.15     15        3.6\n",
       "42636 2006-12-31 20:12:00  38.31  21.37     45        3.0\n",
       "42637 2006-12-31 22:17:00  35.69  25.24     56        3.3\n",
       "\n",
       "[3588 rows x 5 columns]"
      ]
     },
     "execution_count": 23,
     "metadata": {},
     "output_type": "execute_result"
    }
   ],
   "source": [
    "df[df['DATETIME'].dt.year == 2006]"
   ]
  },
  {
   "cell_type": "markdown",
   "id": "99dd9f33-05f2-4e50-ab7f-6d668add7a6f",
   "metadata": {},
   "source": [
    "2006 had 3588 data entries! let's narrow this down."
   ]
  },
  {
   "cell_type": "code",
   "execution_count": 125,
   "id": "54990b91-50e6-4098-85b1-129210d02ac7",
   "metadata": {},
   "outputs": [
    {
     "data": {
      "text/html": [
       "<div>\n",
       "<style scoped>\n",
       "    .dataframe tbody tr th:only-of-type {\n",
       "        vertical-align: middle;\n",
       "    }\n",
       "\n",
       "    .dataframe tbody tr th {\n",
       "        vertical-align: top;\n",
       "    }\n",
       "\n",
       "    .dataframe thead th {\n",
       "        text-align: right;\n",
       "    }\n",
       "</style>\n",
       "<table border=\"1\" class=\"dataframe\">\n",
       "  <thead>\n",
       "    <tr style=\"text-align: right;\">\n",
       "      <th></th>\n",
       "      <th>DATETIME</th>\n",
       "      <th>LAT</th>\n",
       "      <th>LONG</th>\n",
       "      <th>DEPTH</th>\n",
       "      <th>MAGNITUDE</th>\n",
       "    </tr>\n",
       "  </thead>\n",
       "  <tbody>\n",
       "    <tr>\n",
       "      <th>39105</th>\n",
       "      <td>2006-01-08 11:34:00</td>\n",
       "      <td>36.21</td>\n",
       "      <td>23.41</td>\n",
       "      <td>69</td>\n",
       "      <td>6.4</td>\n",
       "    </tr>\n",
       "  </tbody>\n",
       "</table>\n",
       "</div>"
      ],
      "text/plain": [
       "                 DATETIME    LAT   LONG  DEPTH  MAGNITUDE\n",
       "39105 2006-01-08 11:34:00  36.21  23.41     69        6.4"
      ]
     },
     "execution_count": 125,
     "metadata": {},
     "output_type": "execute_result"
    }
   ],
   "source": [
    "df_2006 = df[df['DATETIME'].dt.year == 2006]\n",
    "df_2006[df_2006['MAGNITUDE']  > 6]"
   ]
  },
  {
   "cell_type": "markdown",
   "id": "fb6e5847-3cd8-4d20-a555-1305dbd09c79",
   "metadata": {},
   "source": [
    "**This is the one!** </br>\n",
    "This is the entry that most resembles the data available for the Kythira Earthquake! The date and time are spot on and also the location, though the Depth and Magnitude are just a bit off of what Wikipedia says. "
   ]
  },
  {
   "cell_type": "markdown",
   "id": "31abb7bb-5c08-4598-a414-f4b8518ce1ad",
   "metadata": {},
   "source": [
    "## Graphics and visualization"
   ]
  },
  {
   "cell_type": "markdown",
   "id": "dc9dc7a2-3993-4c9b-8b33-fcc6b2d6567e",
   "metadata": {},
   "source": [
    "Lets go back to our initial questions:</br>\n",
    "-How do earthquakes distribute in time?</br>\n",
    "-Which is the most frequent magnitude? and depth?</br>\n",
    "-Is there a correlation between magnitude and depth?</br>\n"
   ]
  },
  {
   "cell_type": "markdown",
   "id": "30a794d9-96f0-4558-b7f1-e464a2361bc2",
   "metadata": {},
   "source": [
    "The easiest way to answer them is by ploting the data into graphics."
   ]
  },
  {
   "cell_type": "markdown",
   "id": "d130e21e-f99d-4935-bbc2-b38553c7fe77",
   "metadata": {},
   "source": [
    "**Earthquake distribution in time**"
   ]
  },
  {
   "cell_type": "code",
   "execution_count": 87,
   "id": "0a148d90-8574-4192-9a4a-1fa0190d5880",
   "metadata": {},
   "outputs": [],
   "source": [
    "df_pltime = pd.DataFrame({\n",
    "    'Earthquakes': df['DATETIME'].dt.year.value_counts()\n",
    "})"
   ]
  },
  {
   "cell_type": "code",
   "execution_count": 88,
   "id": "fc9f3e73-0f92-4a41-ad86-35f1c9f47765",
   "metadata": {},
   "outputs": [],
   "source": [
    "df_pltime = df_pltime.sort_index(axis=0)"
   ]
  },
  {
   "cell_type": "code",
   "execution_count": 89,
   "id": "6da56fa6-8cab-4cf8-b076-23a52602cfec",
   "metadata": {},
   "outputs": [
    {
     "data": {
      "text/plain": [
       "Text(0.5, 1.0, 'Ocurrence of earthquakes in Greece since 1964')"
      ]
     },
     "execution_count": 89,
     "metadata": {},
     "output_type": "execute_result"
    },
    {
     "data": {
      "image/png": "[encoded data removed]",
      "text/plain": [
       "<Figure size 432x288 with 1 Axes>"
      ]
     },
     "metadata": {
      "needs_background": "light"
     },
     "output_type": "display_data"
    }
   ],
   "source": [
    "fig, ax = plt.subplots()  \n",
    "ax.plot(df_pltime.index, df_pltime['Earthquakes'])\n",
    "ax.set_xlabel('Years') \n",
    "ax.set_ylabel('N of Earthquakes')\n",
    "ax.set_title(\"Ocurrence of earthquakes in Greece since 1964\")  "
   ]
  },
  {
   "cell_type": "markdown",
   "id": "51bae7c0-6157-4735-b70c-f30b9226d692",
   "metadata": {},
   "source": [
    "**Frequency of Magnitude and Depth** :"
   ]
  },
  {
   "cell_type": "code",
   "execution_count": 94,
   "id": "4fb9efcf-9f36-44d8-8284-bf9010df4785",
   "metadata": {},
   "outputs": [],
   "source": [
    "df_plm = pd.DataFrame({\n",
    "    'FrequencyM':df['MAGNITUDE'].value_counts()\n",
    "})"
   ]
  },
  {
   "cell_type": "code",
   "execution_count": 95,
   "id": "24829719-f3a2-4d19-89e4-12f554839547",
   "metadata": {},
   "outputs": [],
   "source": [
    "df_plm = df_plm.sort_index(axis=0)"
   ]
  },
  {
   "cell_type": "code",
   "execution_count": 96,
   "id": "3cf313ad-c425-4e30-a2ca-8ba2a1b62e30",
   "metadata": {},
   "outputs": [],
   "source": [
    "df_pld = pd.DataFrame({\n",
    "    'FrequencyD':df['DEPTH'].value_counts()\n",
    "})"
   ]
  },
  {
   "cell_type": "code",
   "execution_count": 99,
   "id": "163a470c-4707-4053-b84b-fb9115e85dd1",
   "metadata": {},
   "outputs": [],
   "source": [
    "df_pld = df_pld.sort_index(axis=0)"
   ]
  },
  {
   "cell_type": "code",
   "execution_count": 106,
   "id": "c663ebac-a48b-4dff-aff4-364ddd1af2b1",
   "metadata": {},
   "outputs": [
    {
     "data": {
      "text/plain": [
       "Text(0.5, 0.98, 'Frequency of Depth and magnitude')"
      ]
     },
     "execution_count": 106,
     "metadata": {},
     "output_type": "execute_result"
    },
    {
     "data": {
      "image/png": "[encoded data removed]",
      "text/plain": [
       "<Figure size 720x360 with 2 Axes>"
      ]
     },
     "metadata": {
      "needs_background": "light"
     },
     "output_type": "display_data"
    }
   ],
   "source": [
    "\n",
    "fig, axs = plt.subplots(1, 2, figsize=(10, 5), sharey=False)\n",
    "axs[0].bar(df_plm.index, df_plm['FrequencyM'])\n",
    "axs[1].bar(df_pld.index, df_pld['FrequencyD'])\n",
    "axs[0].set_xlabel('Magnitude in Richter Scale') \n",
    "axs[0].set_ylabel('N of Earthquakes')\n",
    "axs[1].set_xlabel('Depth (Km)') \n",
    "fig.suptitle('Frequency of Depth and magnitude')"
   ]
  },
  {
   "cell_type": "markdown",
   "id": "68a15232-e798-4780-a8cf-a959ebddf048",
   "metadata": {},
   "source": [
    "**Correlation between depth and magnitude**:"
   ]
  },
  {
   "cell_type": "code",
   "execution_count": 112,
   "id": "de38c632-e3f4-4e9b-8250-dde0493bad94",
   "metadata": {},
   "outputs": [
    {
     "data": {
      "image/png": "[encoded data removed]",
      "text/plain": [
       "<Figure size 1368x1080 with 2 Axes>"
      ]
     },
     "metadata": {
      "needs_background": "light"
     },
     "output_type": "display_data"
    }
   ],
   "source": [
    "f = plt.figure(figsize=(19, 15))\n",
    "plt.matshow(df.corr(), fignum=f.number)\n",
    "plt.xticks(range(df.select_dtypes(['number']).shape[1]), df.select_dtypes(['number']).columns, fontsize=14, rotation=45)\n",
    "plt.yticks(range(df.select_dtypes(['number']).shape[1]), df.select_dtypes(['number']).columns, fontsize=14)\n",
    "cb = plt.colorbar()\n",
    "cb.ax.tick_params(labelsize=14)\n",
    "plt.title('Correlation Matrix', fontsize=16);"
   ]
  },
  {
   "cell_type": "markdown",
   "id": "9e9d6ec4-1ed6-4626-986b-bf6e2ebca703",
   "metadata": {},
   "source": [
    "There seems to be a very low correlation between Depth and Magnitude. We can also appreciate that there is more correlation between Magnitude and Depth and Longitude. This might be due to the greek terrain itself: there's more variation in tectonic diversity in a East-West axis which might explain how eathquakes are stronger in the west than in the east due to the presence of the Pindus mountain range."
   ]
  }
 ],
 "metadata": {
  "kernelspec": {
   "display_name": "Python 3 (ipykernel)",
   "language": "python",
   "name": "python3"
  },
  "language_info": {
   "codemirror_mode": {
    "name": "ipython",
    "version": 3
   },
   "file_extension": ".py",
   "mimetype": "text/x-python",
   "name": "python",
   "nbconvert_exporter": "python",
   "pygments_lexer": "ipython3",
   "version": "3.8.13"
  }
 },
 "nbformat": 4,
 "nbformat_minor": 5
}
