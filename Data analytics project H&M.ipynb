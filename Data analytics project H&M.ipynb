{
 "cells": [
  {
   "cell_type": "markdown",
   "id": "788cc876-be21-4805-95aa-403eb9adfae5",
   "metadata": {},
   "source": [
    "# Data Analytics Project"
   ]
  },
  {
   "cell_type": "markdown",
   "id": "cf85d4b2-7c8a-46f3-b13f-59735287abe4",
   "metadata": {},
   "source": [
    "This is a Portfolio project with the intent of showing the use of different tools such as Jupyter Notebooks and Python including lybraries as Numpy and Pandas. I'll be using a dataset from Kaggle donwloaded as a csv document. "
   ]
  },
  {
   "cell_type": "markdown",
   "id": "7356b76a-c2ba-4798-97c3-302ebcc68511",
   "metadata": {},
   "source": [
    "## Context"
   ]
  },
  {
   "cell_type": "markdown",
   "id": "7d45624d-5090-4334-9366-5e4f956f422f",
   "metadata": {},
   "source": [
    "H&M is a global clothing retailer that operates in 75+ countries with over 5,000 stores under the various company brands, with 126,000 full-time equivalent positions.This dataset contains global locations and meta data of H&M Stores."
   ]
  },
  {
   "cell_type": "markdown",
   "id": "be8d9392-16d5-4b38-8787-a0fa6e42b316",
   "metadata": {},
   "source": [
    "## Exploring data"
   ]
  },
  {
   "cell_type": "markdown",
   "id": "c78ec686-7594-4a71-9a48-b5ce6a4200c1",
   "metadata": {},
   "source": [
    "Let us start with the basics: import libraries and the dataset itself."
   ]
  },
  {
   "cell_type": "code",
   "execution_count": 5,
   "id": "eeb1e397-15e0-4ea4-b3c0-c3df5b0045e0",
   "metadata": {},
   "outputs": [],
   "source": [
    "import numpy as np \n",
    "import pandas as pd\n",
    "import matplotlib.pyplot as plt\n",
    "plt.style.use('fivethirtyeight')"
   ]
  },
  {
   "cell_type": "code",
   "execution_count": 6,
   "id": "204db08a-28e1-43b9-9836-cf5f002a734b",
   "metadata": {},
   "outputs": [],
   "source": [
    "df = pd.read_csv('/Users/vic/Documents/Programación/Data Analytics/Data Analytics Project 1/HM_all_stores.csv')"
   ]
  },
  {
   "cell_type": "markdown",
   "id": "6293f3ab-a74a-4adb-bfa2-ded1fcab4188",
   "metadata": {},
   "source": [
    "Now we can get a sample of our data frame:"
   ]
  },
  {
   "cell_type": "code",
   "execution_count": 7,
   "id": "949d9449-7881-4c3b-84bf-6a5eed280d88",
   "metadata": {},
   "outputs": [
    {
     "data": {
      "text/html": [
       "<div>\n",
       "<style scoped>\n",
       "    .dataframe tbody tr th:only-of-type {\n",
       "        vertical-align: middle;\n",
       "    }\n",
       "\n",
       "    .dataframe tbody tr th {\n",
       "        vertical-align: top;\n",
       "    }\n",
       "\n",
       "    .dataframe thead th {\n",
       "        text-align: right;\n",
       "    }\n",
       "</style>\n",
       "<table border=\"1\" class=\"dataframe\">\n",
       "  <thead>\n",
       "    <tr style=\"text-align: right;\">\n",
       "      <th></th>\n",
       "      <th>storeCode</th>\n",
       "      <th>storeClass</th>\n",
       "      <th>name</th>\n",
       "      <th>phone</th>\n",
       "      <th>city</th>\n",
       "      <th>country</th>\n",
       "      <th>countryCode</th>\n",
       "      <th>longitude</th>\n",
       "      <th>latitude</th>\n",
       "      <th>timeZoneIndex</th>\n",
       "      <th>...</th>\n",
       "      <th>Tue_open_hours</th>\n",
       "      <th>Wed_open_hours</th>\n",
       "      <th>Thu_open_hours</th>\n",
       "      <th>Fri_open_hours</th>\n",
       "      <th>Sat_open_hours</th>\n",
       "      <th>Sun_open_hours</th>\n",
       "      <th>streetName1</th>\n",
       "      <th>streetName2</th>\n",
       "      <th>state</th>\n",
       "      <th>address_string</th>\n",
       "    </tr>\n",
       "  </thead>\n",
       "  <tbody>\n",
       "    <tr>\n",
       "      <th>0</th>\n",
       "      <td>AE0122</td>\n",
       "      <td>Red</td>\n",
       "      <td>Mirdiff city center</td>\n",
       "      <td>+971-42316646</td>\n",
       "      <td>Dubai</td>\n",
       "      <td>United Arab Emirates</td>\n",
       "      <td>AE</td>\n",
       "      <td>55.424840</td>\n",
       "      <td>25.226280</td>\n",
       "      <td>165.0</td>\n",
       "      <td>...</td>\n",
       "      <td>10:00-22:00</td>\n",
       "      <td>10:00-22:00</td>\n",
       "      <td>10:00-23:55</td>\n",
       "      <td>10:00-23:55</td>\n",
       "      <td>10:00-23:55</td>\n",
       "      <td>10:00-22:00</td>\n",
       "      <td>Mirdiff city center</td>\n",
       "      <td>Sheikh Mohammad Bin Zayed Road</td>\n",
       "      <td>Dubai</td>\n",
       "      <td>Mirdiff city center;Sheikh Mohammad Bin Zayed ...</td>\n",
       "    </tr>\n",
       "    <tr>\n",
       "      <th>1</th>\n",
       "      <td>AE0149</td>\n",
       "      <td>Flagship</td>\n",
       "      <td>Dubai Mall</td>\n",
       "      <td>+971-44190346</td>\n",
       "      <td>Dubai</td>\n",
       "      <td>United Arab Emirates</td>\n",
       "      <td>AE</td>\n",
       "      <td>55.278446</td>\n",
       "      <td>25.197506</td>\n",
       "      <td>165.0</td>\n",
       "      <td>...</td>\n",
       "      <td>10:00-23:00</td>\n",
       "      <td>10:00-23:00</td>\n",
       "      <td>10:00-23:55</td>\n",
       "      <td>10:00-23:55</td>\n",
       "      <td>10:00-23:00</td>\n",
       "      <td>10:00-23:00</td>\n",
       "      <td>Dubai Mall</td>\n",
       "      <td>Sheikh Zayed Road</td>\n",
       "      <td>Dubai</td>\n",
       "      <td>Dubai Mall;Sheikh Zayed Road;Dubai;Dubai;Dubai</td>\n",
       "    </tr>\n",
       "    <tr>\n",
       "      <th>2</th>\n",
       "      <td>AE0209</td>\n",
       "      <td>Blue</td>\n",
       "      <td>Al Markaziyah</td>\n",
       "      <td>+971-26120870</td>\n",
       "      <td>Abu Dhabi</td>\n",
       "      <td>United Arab Emirates</td>\n",
       "      <td>AE</td>\n",
       "      <td>54.357462</td>\n",
       "      <td>24.487245</td>\n",
       "      <td>165.0</td>\n",
       "      <td>...</td>\n",
       "      <td>10:00-22:00</td>\n",
       "      <td>10:00-22:00</td>\n",
       "      <td>10:00-23:00</td>\n",
       "      <td>10:00-23:00</td>\n",
       "      <td>10:00-22:00</td>\n",
       "      <td>10:00-22:00</td>\n",
       "      <td>Al Markaziyah</td>\n",
       "      <td>World Trade Center Mall</td>\n",
       "      <td>Abu Dhabi</td>\n",
       "      <td>Al Markaziyah;World Trade Center Mall;123;Abu ...</td>\n",
       "    </tr>\n",
       "    <tr>\n",
       "      <th>3</th>\n",
       "      <td>AE0223</td>\n",
       "      <td>Blue</td>\n",
       "      <td>Abu Dhabi-Dubai Rd - Abu Dhabi</td>\n",
       "      <td>+971-26120851</td>\n",
       "      <td>Abu Dhabi</td>\n",
       "      <td>United Arab Emirates</td>\n",
       "      <td>AE</td>\n",
       "      <td>54.671499</td>\n",
       "      <td>24.523875</td>\n",
       "      <td>165.0</td>\n",
       "      <td>...</td>\n",
       "      <td>10:00-22:00</td>\n",
       "      <td>10:00-22:00</td>\n",
       "      <td>10:00-23:55</td>\n",
       "      <td>10:00-23:55</td>\n",
       "      <td>10:00-20:00</td>\n",
       "      <td>10:00-22:00</td>\n",
       "      <td>Abu Dhabi-Dubai Rd - Abu Dhabi</td>\n",
       "      <td>Al Bahia - Al Shahama</td>\n",
       "      <td>Abu Dhabi</td>\n",
       "      <td>Abu Dhabi-Dubai Rd - Abu Dhabi;Al Bahia - Al S...</td>\n",
       "    </tr>\n",
       "    <tr>\n",
       "      <th>4</th>\n",
       "      <td>AE0273</td>\n",
       "      <td>Flagship</td>\n",
       "      <td>Yas Mall</td>\n",
       "      <td>+971-24926530</td>\n",
       "      <td>Abu Dhabi</td>\n",
       "      <td>United Arab Emirates</td>\n",
       "      <td>AE</td>\n",
       "      <td>54.609720</td>\n",
       "      <td>24.488684</td>\n",
       "      <td>165.0</td>\n",
       "      <td>...</td>\n",
       "      <td>10:00-22:00</td>\n",
       "      <td>10:00-22:00</td>\n",
       "      <td>10:00-23:55</td>\n",
       "      <td>10:00-23:55</td>\n",
       "      <td>10:00-22:00</td>\n",
       "      <td>10:00-22:00</td>\n",
       "      <td>Yas Mall</td>\n",
       "      <td>NaN</td>\n",
       "      <td>Abu Dhabi</td>\n",
       "      <td>Yas Mall;;x;Abu Dhabi</td>\n",
       "    </tr>\n",
       "  </tbody>\n",
       "</table>\n",
       "<p>5 rows × 21 columns</p>\n",
       "</div>"
      ],
      "text/plain": [
       "  storeCode storeClass                            name          phone  \\\n",
       "0    AE0122        Red             Mirdiff city center  +971-42316646   \n",
       "1    AE0149   Flagship                      Dubai Mall  +971-44190346   \n",
       "2    AE0209       Blue                   Al Markaziyah  +971-26120870   \n",
       "3    AE0223       Blue  Abu Dhabi-Dubai Rd - Abu Dhabi  +971-26120851   \n",
       "4    AE0273   Flagship                        Yas Mall  +971-24926530   \n",
       "\n",
       "        city               country countryCode  longitude   latitude  \\\n",
       "0      Dubai  United Arab Emirates          AE  55.424840  25.226280   \n",
       "1      Dubai  United Arab Emirates          AE  55.278446  25.197506   \n",
       "2  Abu Dhabi  United Arab Emirates          AE  54.357462  24.487245   \n",
       "3  Abu Dhabi  United Arab Emirates          AE  54.671499  24.523875   \n",
       "4  Abu Dhabi  United Arab Emirates          AE  54.609720  24.488684   \n",
       "\n",
       "   timeZoneIndex  ... Tue_open_hours Wed_open_hours Thu_open_hours  \\\n",
       "0          165.0  ...    10:00-22:00    10:00-22:00    10:00-23:55   \n",
       "1          165.0  ...    10:00-23:00    10:00-23:00    10:00-23:55   \n",
       "2          165.0  ...    10:00-22:00    10:00-22:00    10:00-23:00   \n",
       "3          165.0  ...    10:00-22:00    10:00-22:00    10:00-23:55   \n",
       "4          165.0  ...    10:00-22:00    10:00-22:00    10:00-23:55   \n",
       "\n",
       "  Fri_open_hours Sat_open_hours Sun_open_hours  \\\n",
       "0    10:00-23:55    10:00-23:55    10:00-22:00   \n",
       "1    10:00-23:55    10:00-23:00    10:00-23:00   \n",
       "2    10:00-23:00    10:00-22:00    10:00-22:00   \n",
       "3    10:00-23:55    10:00-20:00    10:00-22:00   \n",
       "4    10:00-23:55    10:00-22:00    10:00-22:00   \n",
       "\n",
       "                      streetName1                     streetName2      state  \\\n",
       "0             Mirdiff city center  Sheikh Mohammad Bin Zayed Road      Dubai   \n",
       "1                      Dubai Mall               Sheikh Zayed Road      Dubai   \n",
       "2                   Al Markaziyah         World Trade Center Mall  Abu Dhabi   \n",
       "3  Abu Dhabi-Dubai Rd - Abu Dhabi           Al Bahia - Al Shahama  Abu Dhabi   \n",
       "4                        Yas Mall                             NaN  Abu Dhabi   \n",
       "\n",
       "                                      address_string  \n",
       "0  Mirdiff city center;Sheikh Mohammad Bin Zayed ...  \n",
       "1     Dubai Mall;Sheikh Zayed Road;Dubai;Dubai;Dubai  \n",
       "2  Al Markaziyah;World Trade Center Mall;123;Abu ...  \n",
       "3  Abu Dhabi-Dubai Rd - Abu Dhabi;Al Bahia - Al S...  \n",
       "4                              Yas Mall;;x;Abu Dhabi  \n",
       "\n",
       "[5 rows x 21 columns]"
      ]
     },
     "execution_count": 7,
     "metadata": {},
     "output_type": "execute_result"
    }
   ],
   "source": [
    "df.head()"
   ]
  },
  {
   "cell_type": "code",
   "execution_count": 8,
   "id": "e36563bc-32ae-4972-80c4-6bdc2af8b637",
   "metadata": {},
   "outputs": [
    {
     "name": "stdout",
     "output_type": "stream",
     "text": [
      "<class 'pandas.core.frame.DataFrame'>\n",
      "RangeIndex: 4292 entries, 0 to 4291\n",
      "Data columns (total 21 columns):\n",
      " #   Column          Non-Null Count  Dtype  \n",
      "---  ------          --------------  -----  \n",
      " 0   storeCode       4292 non-null   object \n",
      " 1   storeClass      4289 non-null   object \n",
      " 2   name            4290 non-null   object \n",
      " 3   phone           4140 non-null   object \n",
      " 4   city            4292 non-null   object \n",
      " 5   country         4292 non-null   object \n",
      " 6   countryCode     4292 non-null   object \n",
      " 7   longitude       4292 non-null   float64\n",
      " 8   latitude        4292 non-null   float64\n",
      " 9   timeZoneIndex   4289 non-null   float64\n",
      " 10  Mon_open_hours  4258 non-null   object \n",
      " 11  Tue_open_hours  4258 non-null   object \n",
      " 12  Wed_open_hours  4258 non-null   object \n",
      " 13  Thu_open_hours  4258 non-null   object \n",
      " 14  Fri_open_hours  4258 non-null   object \n",
      " 15  Sat_open_hours  4258 non-null   object \n",
      " 16  Sun_open_hours  3148 non-null   object \n",
      " 17  streetName1     4292 non-null   object \n",
      " 18  streetName2     1827 non-null   object \n",
      " 19  state           2431 non-null   object \n",
      " 20  address_string  4292 non-null   object \n",
      "dtypes: float64(3), object(18)\n",
      "memory usage: 704.3+ KB\n"
     ]
    }
   ],
   "source": [
    "df.info()"
   ]
  },
  {
   "cell_type": "markdown",
   "id": "d516e403-92dd-4de0-a416-9c03700794eb",
   "metadata": {},
   "source": [
    "  Exploring this data we have a notion of what are we working with: location data of the H&M's stores and their opening hours. There are columns with null cells and most numeric data is location information, which is mostly descriptive. Given the nature of this information, the most relevant question we can answer is : How many H&M stores are in each country and how are they distributed?\n",
    "   "
   ]
  },
  {
   "cell_type": "markdown",
   "id": "f3440307-5aa1-4700-bfad-42e0bc2036d4",
   "metadata": {},
   "source": [
    "But before we can answer this questions we need to do something really important: To clean our data."
   ]
  },
  {
   "cell_type": "markdown",
   "id": "cbc5f5c0-91d5-45bd-97fa-c76833b2c51b",
   "metadata": {},
   "source": [
    "## Data cleaning"
   ]
  },
  {
   "cell_type": "markdown",
   "id": "b94364d4-3d08-44a8-94f6-88232182ab3a",
   "metadata": {},
   "source": [
    "First, I will shorten the amount of columns we will working with. I'll keep the adress information to make sure there's no duplicates. I'll add the store code as the index to make searches more easy."
   ]
  },
  {
   "cell_type": "code",
   "execution_count": 9,
   "id": "5fa7e20d-41b7-4840-90be-e128406d5360",
   "metadata": {},
   "outputs": [],
   "source": [
    "dfc = pd.DataFrame({\n",
    "    'index':df.storeCode ,\n",
    "    'country': df.country, \n",
    "    'city':df.city,\n",
    "    'address': df.address_string\n",
    "})"
   ]
  },
  {
   "cell_type": "code",
   "execution_count": 10,
   "id": "74054216-2c4c-44bb-9f9b-be397de5ea2b",
   "metadata": {
    "tags": []
   },
   "outputs": [
    {
     "data": {
      "text/html": [
       "<div>\n",
       "<style scoped>\n",
       "    .dataframe tbody tr th:only-of-type {\n",
       "        vertical-align: middle;\n",
       "    }\n",
       "\n",
       "    .dataframe tbody tr th {\n",
       "        vertical-align: top;\n",
       "    }\n",
       "\n",
       "    .dataframe thead th {\n",
       "        text-align: right;\n",
       "    }\n",
       "</style>\n",
       "<table border=\"1\" class=\"dataframe\">\n",
       "  <thead>\n",
       "    <tr style=\"text-align: right;\">\n",
       "      <th></th>\n",
       "      <th>index</th>\n",
       "      <th>country</th>\n",
       "      <th>city</th>\n",
       "      <th>address</th>\n",
       "    </tr>\n",
       "  </thead>\n",
       "  <tbody>\n",
       "    <tr>\n",
       "      <th>0</th>\n",
       "      <td>AE0122</td>\n",
       "      <td>United Arab Emirates</td>\n",
       "      <td>Dubai</td>\n",
       "      <td>Mirdiff city center;Sheikh Mohammad Bin Zayed ...</td>\n",
       "    </tr>\n",
       "    <tr>\n",
       "      <th>1</th>\n",
       "      <td>AE0149</td>\n",
       "      <td>United Arab Emirates</td>\n",
       "      <td>Dubai</td>\n",
       "      <td>Dubai Mall;Sheikh Zayed Road;Dubai;Dubai;Dubai</td>\n",
       "    </tr>\n",
       "    <tr>\n",
       "      <th>2</th>\n",
       "      <td>AE0209</td>\n",
       "      <td>United Arab Emirates</td>\n",
       "      <td>Abu Dhabi</td>\n",
       "      <td>Al Markaziyah;World Trade Center Mall;123;Abu ...</td>\n",
       "    </tr>\n",
       "    <tr>\n",
       "      <th>3</th>\n",
       "      <td>AE0223</td>\n",
       "      <td>United Arab Emirates</td>\n",
       "      <td>Abu Dhabi</td>\n",
       "      <td>Abu Dhabi-Dubai Rd - Abu Dhabi;Al Bahia - Al S...</td>\n",
       "    </tr>\n",
       "    <tr>\n",
       "      <th>4</th>\n",
       "      <td>AE0273</td>\n",
       "      <td>United Arab Emirates</td>\n",
       "      <td>Abu Dhabi</td>\n",
       "      <td>Yas Mall;;x;Abu Dhabi</td>\n",
       "    </tr>\n",
       "  </tbody>\n",
       "</table>\n",
       "</div>"
      ],
      "text/plain": [
       "    index               country       city  \\\n",
       "0  AE0122  United Arab Emirates      Dubai   \n",
       "1  AE0149  United Arab Emirates      Dubai   \n",
       "2  AE0209  United Arab Emirates  Abu Dhabi   \n",
       "3  AE0223  United Arab Emirates  Abu Dhabi   \n",
       "4  AE0273  United Arab Emirates  Abu Dhabi   \n",
       "\n",
       "                                             address  \n",
       "0  Mirdiff city center;Sheikh Mohammad Bin Zayed ...  \n",
       "1     Dubai Mall;Sheikh Zayed Road;Dubai;Dubai;Dubai  \n",
       "2  Al Markaziyah;World Trade Center Mall;123;Abu ...  \n",
       "3  Abu Dhabi-Dubai Rd - Abu Dhabi;Al Bahia - Al S...  \n",
       "4                              Yas Mall;;x;Abu Dhabi  "
      ]
     },
     "execution_count": 10,
     "metadata": {},
     "output_type": "execute_result"
    }
   ],
   "source": [
    "dfc.head()"
   ]
  },
  {
   "cell_type": "markdown",
   "id": "77b3f8ad-57ff-4527-953f-8023ac051605",
   "metadata": {},
   "source": [
    "Verifying 'Code' duplicates:"
   ]
  },
  {
   "cell_type": "code",
   "execution_count": 11,
   "id": "ec6c4819-73bf-4d20-9992-d1109ed5b9f0",
   "metadata": {},
   "outputs": [
    {
     "data": {
      "text/html": [
       "<div>\n",
       "<style scoped>\n",
       "    .dataframe tbody tr th:only-of-type {\n",
       "        vertical-align: middle;\n",
       "    }\n",
       "\n",
       "    .dataframe tbody tr th {\n",
       "        vertical-align: top;\n",
       "    }\n",
       "\n",
       "    .dataframe thead th {\n",
       "        text-align: right;\n",
       "    }\n",
       "</style>\n",
       "<table border=\"1\" class=\"dataframe\">\n",
       "  <thead>\n",
       "    <tr style=\"text-align: right;\">\n",
       "      <th></th>\n",
       "      <th>index</th>\n",
       "      <th>country</th>\n",
       "      <th>city</th>\n",
       "      <th>address</th>\n",
       "    </tr>\n",
       "  </thead>\n",
       "  <tbody>\n",
       "    <tr>\n",
       "      <th>3720</th>\n",
       "      <td>PR0001</td>\n",
       "      <td>USA</td>\n",
       "      <td>San Juan</td>\n",
       "      <td>The Mall of San Juan;1000 Mall of San Juan Bou...</td>\n",
       "    </tr>\n",
       "    <tr>\n",
       "      <th>3721</th>\n",
       "      <td>PR0002</td>\n",
       "      <td>USA</td>\n",
       "      <td>Bayamón</td>\n",
       "      <td>Plaza del Sol;725 West Main Avenue;00961;Bayamon</td>\n",
       "    </tr>\n",
       "  </tbody>\n",
       "</table>\n",
       "</div>"
      ],
      "text/plain": [
       "       index country      city  \\\n",
       "3720  PR0001     USA  San Juan   \n",
       "3721  PR0002     USA   Bayamón   \n",
       "\n",
       "                                                address  \n",
       "3720  The Mall of San Juan;1000 Mall of San Juan Bou...  \n",
       "3721   Plaza del Sol;725 West Main Avenue;00961;Bayamon  "
      ]
     },
     "execution_count": 11,
     "metadata": {},
     "output_type": "execute_result"
    }
   ],
   "source": [
    "dfc [dfc.duplicated(subset = ['index'])] "
   ]
  },
  {
   "cell_type": "markdown",
   "id": "86e338aa-8e1d-4a87-809d-39bf313e9f73",
   "metadata": {},
   "source": [
    "We have two duplicates: they share the same store code and the same adress. Lets drop those."
   ]
  },
  {
   "cell_type": "code",
   "execution_count": 12,
   "id": "b37828c7-0f36-4322-a730-c7a5a62d9e28",
   "metadata": {},
   "outputs": [],
   "source": [
    "dfc = dfc.drop_duplicates(subset = ['index'])"
   ]
  },
  {
   "cell_type": "code",
   "execution_count": 13,
   "id": "3343c4c9-a167-4114-8184-f9f2ca74a94e",
   "metadata": {
    "collapsed": true,
    "jupyter": {
     "outputs_hidden": true
    },
    "tags": []
   },
   "outputs": [
    {
     "name": "stdout",
     "output_type": "stream",
     "text": [
      "<class 'pandas.core.frame.DataFrame'>\n",
      "Int64Index: 4290 entries, 0 to 4291\n",
      "Data columns (total 4 columns):\n",
      " #   Column   Non-Null Count  Dtype \n",
      "---  ------   --------------  ----- \n",
      " 0   index    4290 non-null   object\n",
      " 1   country  4290 non-null   object\n",
      " 2   city     4290 non-null   object\n",
      " 3   address  4290 non-null   object\n",
      "dtypes: object(4)\n",
      "memory usage: 167.6+ KB\n"
     ]
    }
   ],
   "source": [
    "dfc.info()"
   ]
  },
  {
   "cell_type": "markdown",
   "id": "717e176e-e264-43e9-bd43-7d5616a0206d",
   "metadata": {
    "tags": []
   },
   "source": [
    "## Plotting and visualization"
   ]
  },
  {
   "cell_type": "markdown",
   "id": "179f9c72-a73f-47c3-af5b-b2e9e0de5857",
   "metadata": {},
   "source": [
    "How many stores does each country have ? Let's start with how many countries in total we have and what those countries are:"
   ]
  },
  {
   "cell_type": "code",
   "execution_count": 14,
   "id": "b8b9fe54-ad58-41ab-bbcf-c7987fa5d78d",
   "metadata": {},
   "outputs": [
    {
     "data": {
      "text/plain": [
       "array(['United Arab Emirates', 'Austria', 'Australia',\n",
       "       'Bosnia and Herzegovina', 'Belgium', 'Bulgaria', 'Bahrain',\n",
       "       'Belarus', 'Canada', 'Switzerland', 'Chile', 'Mainland China',\n",
       "       'Colombia', 'Cyprus', 'Czech Republic', 'Germany', 'Denmark',\n",
       "       'Estonia', 'Egypt', 'Spain', 'Finland', 'France', 'UK', 'Georgia',\n",
       "       'Greece', 'Hong Kong SAR', 'Croatia', 'Hungary', 'Indonesia',\n",
       "       'Ireland', 'Israel', 'India', 'Iceland', 'Italy', 'Jordan',\n",
       "       'Japan', 'Korea, Republic of', 'Kuwait', 'Kazakhstan', 'Lebanon',\n",
       "       'Lithuania', 'Luxembourg', 'Latvia', 'Morocco', 'Macao SAR',\n",
       "       'Mexico', 'Malaysia', 'Netherlands', 'Norway', 'New Zealand',\n",
       "       'Oman', 'Panama', 'Peru', 'Philippines', 'Poland', 'USA',\n",
       "       'Portugal', 'Qatar', 'Romania', 'Serbia', 'Russian Federation',\n",
       "       'Saudi Arabia', 'Sweden', 'Singapore', 'Slovenia', 'Slovakia',\n",
       "       'Thailand', 'Tunisia', 'Turkey', 'Taiwan Region', 'Ukraine',\n",
       "       'Uruguay', 'Viet Nam', 'South Africa'], dtype=object)"
      ]
     },
     "execution_count": 14,
     "metadata": {},
     "output_type": "execute_result"
    }
   ],
   "source": [
    "dfc['country'].unique()"
   ]
  },
  {
   "cell_type": "code",
   "execution_count": 24,
   "id": "49845316-9d55-48b5-bfa8-2c0eb9eb2f0f",
   "metadata": {},
   "outputs": [
    {
     "data": {
      "text/plain": [
       "USA                       530\n",
       "Mainland China            408\n",
       "Germany                   383\n",
       "UK                        215\n",
       "France                    186\n",
       "                         ... \n",
       "Bosnia and Herzegovina      2\n",
       "Lebanon                     2\n",
       "Cyprus                      1\n",
       "Macao SAR                   1\n",
       "Panama                      1\n",
       "Name: country, Length: 74, dtype: int64"
      ]
     },
     "execution_count": 24,
     "metadata": {},
     "output_type": "execute_result"
    }
   ],
   "source": [
    " dfc['country'].value_counts()"
   ]
  },
  {
   "cell_type": "markdown",
   "id": "626aaf1b-d76f-4f83-95ec-3bc973bdaa9a",
   "metadata": {},
   "source": [
    "We have 74 countries and many of them have only 1 or 2 stores. It would be useful to only focus our attention on those countries with more than 100 stores."
   ]
  },
  {
   "cell_type": "code",
   "execution_count": 26,
   "id": "0ae604c7-c81e-435e-8e5b-394d7ece6d9e",
   "metadata": {},
   "outputs": [
    {
     "data": {
      "text/plain": [
       "USA                   530\n",
       "Mainland China        408\n",
       "Germany               383\n",
       "UK                    215\n",
       "France                186\n",
       "Poland                178\n",
       "Italy                 156\n",
       "Russian Federation    146\n",
       "Spain                 137\n",
       "Sweden                128\n",
       "Japan                 116\n",
       "Norway                 96\n",
       "Name: country, dtype: int64"
      ]
     },
     "execution_count": 26,
     "metadata": {},
     "output_type": "execute_result"
    }
   ],
   "source": [
    " dfc['country'].value_counts().head(12)"
   ]
  },
  {
   "cell_type": "markdown",
   "id": "56d2aa98-13a9-4efb-9120-29362bbb6f3b",
   "metadata": {},
   "source": [
    "Only 11 countries have more than 100 stores. Maybe we can plot them out to see the proportions with more ease. "
   ]
  },
  {
   "cell_type": "code",
   "execution_count": 16,
   "id": "10333dbd-2e50-46b4-afc2-738f0a823fc6",
   "metadata": {},
   "outputs": [],
   "source": [
    "dfc_plot = pd.DataFrame({ \n",
    "    'Country':['USA','China','Germany','UK','France', 'Poland', 'Italy','Russian Federation','Spain','Sweden','Japan'],\n",
    "    'N of stores': dfc['country'].value_counts().head(n=11)\n",
    "})"
   ]
  },
  {
   "cell_type": "code",
   "execution_count": 23,
   "id": "73ab16e1-5807-4b16-88a0-38cbd9f2a3c9",
   "metadata": {},
   "outputs": [
    {
     "data": {
      "text/plain": [
       "<AxesSubplot:title={'center':'Number of Shops per Country'}>"
      ]
     },
     "execution_count": 23,
     "metadata": {},
     "output_type": "execute_result"
    },
    {
     "data": {
      "image/png": "[encoded data removed]",
      "text/plain": [
       "<Figure size 720x720 with 1 Axes>"
      ]
     },
     "metadata": {},
     "output_type": "display_data"
    }
   ],
   "source": [
    "dfc_plot.plot.barh(figsize=(10,10), title='Number of Shops per Country')"
   ]
  },
  {
   "cell_type": "markdown",
   "id": "7861dc01-9032-478e-9c3b-176a6ab7a19f",
   "metadata": {},
   "source": [
    "Now we can freely interpret our information visually! we can clearly see how many stores each country have in relation to eachother: the USA have a clear advantage and it's followed by Germany and China by a margin that is comparable to the one between the UK and Germany. Every other country have fewer stores but the differences between them are not as significative. "
   ]
  }
 ],
 "metadata": {
  "kernelspec": {
   "display_name": "Python 3 (ipykernel)",
   "language": "python",
   "name": "python3"
  },
  "language_info": {
   "codemirror_mode": {
    "name": "ipython",
    "version": 3
   },
   "file_extension": ".py",
   "mimetype": "text/x-python",
   "name": "python",
   "nbconvert_exporter": "python",
   "pygments_lexer": "ipython3",
   "version": "3.8.12"
  }
 },
 "nbformat": 4,
 "nbformat_minor": 5
}
